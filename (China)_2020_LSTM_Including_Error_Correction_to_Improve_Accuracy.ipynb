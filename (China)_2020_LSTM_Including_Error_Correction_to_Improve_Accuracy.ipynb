{
 "cells": [
  {
   "cell_type": "markdown",
   "metadata": {
    "colab_type": "text",
    "id": "-D4LaNIWeVlo"
   },
   "source": [
    "Importing all the libraries"
   ]
  },
  {
   "cell_type": "code",
   "execution_count": 1,
   "metadata": {
    "colab": {},
    "colab_type": "code",
    "id": "DrfYC9RCQ2Tz"
   },
   "outputs": [],
   "source": [
    "import numpy as np\n",
    "import pandas as pd\n",
    "import matplotlib.pyplot as plt"
   ]
  },
  {
   "cell_type": "markdown",
   "metadata": {
    "colab_type": "text",
    "id": "l_nGFtseeaKV"
   },
   "source": [
    "Uploading files from local"
   ]
  },
  {
   "cell_type": "raw",
   "metadata": {
    "colab": {
     "base_uri": "https://localhost:8080/",
     "height": 81,
     "resources": {
      "http://localhost:8080/nbextensions/google.colab/files.js": {
       "data": "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",
       "headers": [
        [
         "content-type",
         "application/javascript"
        ]
       ],
       "ok": true,
       "status": 200,
       "status_text": "OK"
      }
     }
    },
    "colab_type": "code",
    "id": "7223_bmIRlGV",
    "outputId": "8492afa1-e4e3-4069-cc04-dd1592068aad"
   },
   "source": [
    "from google.colab import files\n",
    "upload=files.upload() \n"
   ]
  },
  {
   "cell_type": "markdown",
   "metadata": {
    "colab_type": "text",
    "id": "cWWsAiqFf5q8"
   },
   "source": [
    "Top five view of dataset"
   ]
  },
  {
   "cell_type": "code",
   "execution_count": 2,
   "metadata": {
    "colab": {
     "base_uri": "https://localhost:8080/",
     "height": 206
    },
    "colab_type": "code",
    "id": "R2spNlu0Q2UO",
    "outputId": "b9084cfd-1bac-4792-f5f8-61d2d250d42c"
   },
   "outputs": [
    {
     "data": {
      "text/html": [
       "<div>\n",
       "<style scoped>\n",
       "    .dataframe tbody tr th:only-of-type {\n",
       "        vertical-align: middle;\n",
       "    }\n",
       "\n",
       "    .dataframe tbody tr th {\n",
       "        vertical-align: top;\n",
       "    }\n",
       "\n",
       "    .dataframe thead th {\n",
       "        text-align: right;\n",
       "    }\n",
       "</style>\n",
       "<table border=\"1\" class=\"dataframe\">\n",
       "  <thead>\n",
       "    <tr style=\"text-align: right;\">\n",
       "      <th></th>\n",
       "      <th>Time (UTC)</th>\n",
       "      <th>Open</th>\n",
       "      <th>High</th>\n",
       "      <th>Low</th>\n",
       "      <th>Close</th>\n",
       "      <th>Volume</th>\n",
       "    </tr>\n",
       "  </thead>\n",
       "  <tbody>\n",
       "    <tr>\n",
       "      <th>0</th>\n",
       "      <td>2010.01.01 02:00:00</td>\n",
       "      <td>0.89748</td>\n",
       "      <td>0.89759</td>\n",
       "      <td>0.89741</td>\n",
       "      <td>0.89747</td>\n",
       "      <td>7951.85</td>\n",
       "    </tr>\n",
       "    <tr>\n",
       "      <th>1</th>\n",
       "      <td>2010.01.01 06:00:00</td>\n",
       "      <td>0.89747</td>\n",
       "      <td>0.89763</td>\n",
       "      <td>0.89739</td>\n",
       "      <td>0.89754</td>\n",
       "      <td>18505.45</td>\n",
       "    </tr>\n",
       "    <tr>\n",
       "      <th>2</th>\n",
       "      <td>2010.01.01 10:00:00</td>\n",
       "      <td>0.89755</td>\n",
       "      <td>0.89763</td>\n",
       "      <td>0.89746</td>\n",
       "      <td>0.89750</td>\n",
       "      <td>15265.53</td>\n",
       "    </tr>\n",
       "    <tr>\n",
       "      <th>3</th>\n",
       "      <td>2010.01.01 14:00:00</td>\n",
       "      <td>0.89753</td>\n",
       "      <td>0.89769</td>\n",
       "      <td>0.89746</td>\n",
       "      <td>0.89753</td>\n",
       "      <td>16587.97</td>\n",
       "    </tr>\n",
       "    <tr>\n",
       "      <th>4</th>\n",
       "      <td>2010.01.01 18:00:00</td>\n",
       "      <td>0.89755</td>\n",
       "      <td>0.89765</td>\n",
       "      <td>0.89738</td>\n",
       "      <td>0.89738</td>\n",
       "      <td>7615.19</td>\n",
       "    </tr>\n",
       "  </tbody>\n",
       "</table>\n",
       "</div>"
      ],
      "text/plain": [
       "            Time (UTC)     Open     High      Low    Close   Volume \n",
       "0  2010.01.01 02:00:00  0.89748  0.89759  0.89741  0.89747   7951.85\n",
       "1  2010.01.01 06:00:00  0.89747  0.89763  0.89739  0.89754  18505.45\n",
       "2  2010.01.01 10:00:00  0.89755  0.89763  0.89746  0.89750  15265.53\n",
       "3  2010.01.01 14:00:00  0.89753  0.89769  0.89746  0.89753  16587.97\n",
       "4  2010.01.01 18:00:00  0.89755  0.89765  0.89738  0.89738   7615.19"
      ]
     },
     "execution_count": 2,
     "metadata": {},
     "output_type": "execute_result"
    }
   ],
   "source": [
    "AUDUSD=pd.read_csv('/path_will_come/AUDUSD.csv')\n",
    "AUDUSD.head() "
   ]
  },
  {
   "cell_type": "markdown",
   "metadata": {
    "colab_type": "text",
    "id": "EmxLTy1_gKy2"
   },
   "source": [
    "Bottom view of dataset"
   ]
  },
  {
   "cell_type": "code",
   "execution_count": 3,
   "metadata": {
    "colab": {
     "base_uri": "https://localhost:8080/",
     "height": 206
    },
    "colab_type": "code",
    "id": "Ynr_QnuyQ2Up",
    "outputId": "83e32caa-1918-4491-8d60-d3b069fa706c"
   },
   "outputs": [
    {
     "data": {
      "text/html": [
       "<div>\n",
       "<style scoped>\n",
       "    .dataframe tbody tr th:only-of-type {\n",
       "        vertical-align: middle;\n",
       "    }\n",
       "\n",
       "    .dataframe tbody tr th {\n",
       "        vertical-align: top;\n",
       "    }\n",
       "\n",
       "    .dataframe thead th {\n",
       "        text-align: right;\n",
       "    }\n",
       "</style>\n",
       "<table border=\"1\" class=\"dataframe\">\n",
       "  <thead>\n",
       "    <tr style=\"text-align: right;\">\n",
       "      <th></th>\n",
       "      <th>Time (UTC)</th>\n",
       "      <th>Open</th>\n",
       "      <th>High</th>\n",
       "      <th>Low</th>\n",
       "      <th>Close</th>\n",
       "      <th>Volume</th>\n",
       "    </tr>\n",
       "  </thead>\n",
       "  <tbody>\n",
       "    <tr>\n",
       "      <th>15895</th>\n",
       "      <td>2020.03.12 05:00:00</td>\n",
       "      <td>0.64578</td>\n",
       "      <td>0.64638</td>\n",
       "      <td>0.64352</td>\n",
       "      <td>0.64362</td>\n",
       "      <td>31186.71</td>\n",
       "    </tr>\n",
       "    <tr>\n",
       "      <th>15896</th>\n",
       "      <td>2020.03.12 09:00:00</td>\n",
       "      <td>0.64362</td>\n",
       "      <td>0.64365</td>\n",
       "      <td>0.63481</td>\n",
       "      <td>0.63487</td>\n",
       "      <td>36624.52</td>\n",
       "    </tr>\n",
       "    <tr>\n",
       "      <th>15897</th>\n",
       "      <td>2020.03.12 13:00:00</td>\n",
       "      <td>0.63487</td>\n",
       "      <td>0.63678</td>\n",
       "      <td>0.62669</td>\n",
       "      <td>0.63544</td>\n",
       "      <td>72771.41</td>\n",
       "    </tr>\n",
       "    <tr>\n",
       "      <th>15898</th>\n",
       "      <td>2020.03.12 17:00:00</td>\n",
       "      <td>0.63543</td>\n",
       "      <td>0.63866</td>\n",
       "      <td>0.62136</td>\n",
       "      <td>0.62377</td>\n",
       "      <td>55018.52</td>\n",
       "    </tr>\n",
       "    <tr>\n",
       "      <th>15899</th>\n",
       "      <td>2020.03.12 21:00:00</td>\n",
       "      <td>0.62378</td>\n",
       "      <td>0.63186</td>\n",
       "      <td>0.62336</td>\n",
       "      <td>0.62899</td>\n",
       "      <td>27747.49</td>\n",
       "    </tr>\n",
       "  </tbody>\n",
       "</table>\n",
       "</div>"
      ],
      "text/plain": [
       "                Time (UTC)     Open     High      Low    Close   Volume \n",
       "15895  2020.03.12 05:00:00  0.64578  0.64638  0.64352  0.64362  31186.71\n",
       "15896  2020.03.12 09:00:00  0.64362  0.64365  0.63481  0.63487  36624.52\n",
       "15897  2020.03.12 13:00:00  0.63487  0.63678  0.62669  0.63544  72771.41\n",
       "15898  2020.03.12 17:00:00  0.63543  0.63866  0.62136  0.62377  55018.52\n",
       "15899  2020.03.12 21:00:00  0.62378  0.63186  0.62336  0.62899  27747.49"
      ]
     },
     "execution_count": 3,
     "metadata": {},
     "output_type": "execute_result"
    }
   ],
   "source": [
    "AUDUSD.tail() \n",
    " "
   ]
  },
  {
   "cell_type": "markdown",
   "metadata": {
    "colab_type": "text",
    "id": "H8kHYDgVgQ2K"
   },
   "source": [
    "Here we have target value of column **'High'**."
   ]
  },
  {
   "cell_type": "code",
   "execution_count": 4,
   "metadata": {
    "colab": {
     "base_uri": "https://localhost:8080/",
     "height": 121
    },
    "colab_type": "code",
    "id": "ecdeF4Y9Q2U3",
    "outputId": "aa52db2e-9ed0-4d36-db04-735c9f6c294b"
   },
   "outputs": [
    {
     "data": {
      "text/plain": [
       "0    0.89759\n",
       "1    0.89763\n",
       "2    0.89763\n",
       "3    0.89769\n",
       "4    0.89765\n",
       "Name: High, dtype: float64"
      ]
     },
     "execution_count": 4,
     "metadata": {},
     "output_type": "execute_result"
    }
   ],
   "source": [
    "data=AUDUSD['High']\n",
    "data.head() "
   ]
  },
  {
   "cell_type": "markdown",
   "metadata": {
    "colab_type": "text",
    "id": "K82rvvEeghAm"
   },
   "source": [
    "Data shape"
   ]
  },
  {
   "cell_type": "code",
   "execution_count": 5,
   "metadata": {
    "colab": {
     "base_uri": "https://localhost:8080/",
     "height": 34
    },
    "colab_type": "code",
    "id": "fk49S08uQ2VD",
    "outputId": "fc3d27da-bba4-4ac4-de2f-6ab1327e152b"
   },
   "outputs": [
    {
     "data": {
      "text/plain": [
       "(15900,)"
      ]
     },
     "execution_count": 5,
     "metadata": {},
     "output_type": "execute_result"
    }
   ],
   "source": [
    "data.shape"
   ]
  },
  {
   "cell_type": "markdown",
   "metadata": {
    "colab_type": "text",
    "id": "G-pbfMdwgjQU"
   },
   "source": [
    "Graph ploting"
   ]
  },
  {
   "cell_type": "code",
   "execution_count": 6,
   "metadata": {
    "colab": {
     "base_uri": "https://localhost:8080/",
     "height": 513
    },
    "colab_type": "code",
    "id": "7qDhW-1-Q2VR",
    "outputId": "4945bcae-33c3-49fc-cbb9-0ff91a800140"
   },
   "outputs": [
    {
     "data": {
      "image/png": "[encoded data removed]",
      "text/plain": [
       "<Figure size 1152x576 with 1 Axes>"
      ]
     },
     "metadata": {
      "needs_background": "light"
     },
     "output_type": "display_data"
    }
   ],
   "source": [
    "plt.figure(figsize=(16,8)) \n",
    "plt.plot(data) \n",
    "plt.legend(['Data'])\n",
    "plt.title('High trend plot')\n",
    "plt.xlabel('High trend')\n",
    "plt.grid()\n",
    "plt.show()"
   ]
  },
  {
   "cell_type": "markdown",
   "metadata": {
    "colab_type": "text",
    "id": "1asBLIvxh5rD"
   },
   "source": [
    "Train and test size determination:\n",
    "\n"
   ]
  },
  {
   "cell_type": "code",
   "execution_count": 7,
   "metadata": {
    "colab": {},
    "colab_type": "code",
    "id": "ZUKRhRnGjq7s"
   },
   "outputs": [],
   "source": [
    "def split_set(data,time_steps):\n",
    "    split_X=[]\n",
    "    split_y=[]\n",
    "    split=[[data[j+i] for j in range(time_steps)] for i in range(len(data)-time_steps)]\n",
    "    split_X=split\n",
    "    \n",
    "    for i in range(len(data)-time_steps):\n",
    "        split_y.append([data[i+time_steps]])\n",
    "    return np.array(split_X),np.array(split_y)"
   ]
  },
  {
   "cell_type": "markdown",
   "metadata": {
    "colab_type": "text",
    "id": "o7AF7MTNix5u"
   },
   "source": [
    "Method for creating data set"
   ]
  },
  {
   "cell_type": "code",
   "execution_count": 8,
   "metadata": {
    "colab": {
     "base_uri": "https://localhost:8080/",
     "height": 52
    },
    "colab_type": "code",
    "id": "iiGRwcq0jx-P",
    "outputId": "9d227e25-9ae2-462f-8d63-f0799d9358d1"
   },
   "outputs": [
    {
     "name": "stdout",
     "output_type": "stream",
     "text": [
      "Train-size= 12719\n",
      "Test-size= 3180\n"
     ]
    }
   ],
   "source": [
    "time_steps=1\n",
    "dataX,dataY=split_set(data,time_steps)\n",
    "\n",
    "\n",
    "train_size=int(len(dataX)*0.80)\n",
    "test_size=len(dataX)-train_size\n",
    "\n",
    "print('Train-size=',train_size)\n",
    "print('Test-size=',test_size)\n",
    "\n",
    "\n",
    "trainX=dataX[0:train_size,]\n",
    "trainY=dataY[0:train_size,]\n",
    "\n",
    "\n",
    "testX=dataX[train_size:len(data),]\n",
    "testY=dataY[train_size:len(data),]\n",
    "\n"
   ]
  },
  {
   "cell_type": "markdown",
   "metadata": {
    "colab_type": "text",
    "id": "-YMAYet4i4dm"
   },
   "source": [
    "Data shape"
   ]
  },
  {
   "cell_type": "code",
   "execution_count": 9,
   "metadata": {
    "colab": {
     "base_uri": "https://localhost:8080/",
     "height": 52
    },
    "colab_type": "code",
    "id": "pvxJn3-y3G0m",
    "outputId": "f2206671-6e5e-4461-a3b2-6d0fbb2d928d"
   },
   "outputs": [
    {
     "name": "stdout",
     "output_type": "stream",
     "text": [
      "TrainX= (12719, 1, 1)\n",
      "TrainY= (12719, 1)\n"
     ]
    }
   ],
   "source": [
    "\n",
    "trainX=trainX.reshape(trainX.shape[0],time_steps,1)\n",
    "testX=testX.reshape(testX.shape[0],time_steps,1)\n",
    "print('TrainX=',trainX.shape)\n",
    "print('TrainY=',trainY.shape)\n"
   ]
  },
  {
   "cell_type": "markdown",
   "metadata": {
    "colab_type": "text",
    "id": "lDMpier-jI58"
   },
   "source": [
    "Now from here we see author proposed model. To deal with some previous time series with null."
   ]
  },
  {
   "cell_type": "code",
   "execution_count": 10,
   "metadata": {
    "colab": {
     "base_uri": "https://localhost:8080/",
     "height": 34
    },
    "colab_type": "code",
    "id": "eiTKdUkA3aEv",
    "outputId": "d0e14c3a-1938-426c-d228-70e4b2435cb6"
   },
   "outputs": [
    {
     "data": {
      "text/plain": [
       "(12719, 1, 1)"
      ]
     },
     "execution_count": 10,
     "metadata": {},
     "output_type": "execute_result"
    }
   ],
   "source": [
    "previous_input=np.zeros(trainX.shape[0]).reshape(trainX.shape[0],1,time_steps)\n",
    "previous_input.shape"
   ]
  },
  {
   "cell_type": "markdown",
   "metadata": {
    "colab_type": "text",
    "id": "ZIMASWvkjcLo"
   },
   "source": [
    "Here we are finding the difference formula proposed by author. In DA-\n",
    "LSTM, we extract the difference feature\n",
    "$$diff=[(x_t-x_{t-2})^2,(x_t-x_{t-1})^2]$$\n",
    "to measure the input time series variation"
   ]
  },
  {
   "cell_type": "code",
   "execution_count": 11,
   "metadata": {
    "colab": {
     "base_uri": "https://localhost:8080/",
     "height": 243
    },
    "colab_type": "code",
    "id": "A8-mQL2nelDR",
    "outputId": "6d87415e-6e41-4cef-987b-244f620e7c66"
   },
   "outputs": [
    {
     "name": "stdout",
     "output_type": "stream",
     "text": [
      "__________________________________________________________________________________________________\n",
      "Layer (type)                    Output Shape         Param #     Connected to                     \n",
      "==================================================================================================\n",
      "input_1 (InputLayer)            (None, 12719, 1, 1)  0                                            \n",
      "__________________________________________________________________________________________________\n",
      "input_2 (InputLayer)            (None, 12719, 1, 1)  0                                            \n",
      "__________________________________________________________________________________________________\n",
      "concatenate (Concatenate)       (None, 12719, 1, 2)  0           input_1[0][0]                    \n",
      "                                                                 input_2[0][0]                    \n",
      "==================================================================================================\n",
      "Total params: 0\n",
      "Trainable params: 0\n",
      "Non-trainable params: 0\n",
      "__________________________________________________________________________________________________\n"
     ]
    },
    {
     "data": {
      "text/plain": [
       "array([[[0.00000000e+00, 8.05667808e-01]],\n",
       "\n",
       "       [[8.05667808e-01, 1.60000000e-09]],\n",
       "\n",
       "       [[1.60000000e-09, 0.00000000e+00]],\n",
       "\n",
       "       ...,\n",
       "\n",
       "       [[2.22010000e-06, 2.16090000e-06]],\n",
       "\n",
       "       [[2.16090000e-06, 6.76000000e-06]],\n",
       "\n",
       "       [[6.76000000e-06, 2.50000000e-07]]])"
      ]
     },
     "execution_count": 11,
     "metadata": {},
     "output_type": "execute_result"
    }
   ],
   "source": [
    "import tensorflow as tf\n",
    "from tensorflow.keras.layers import Dense,LSTM,TimeDistributed,Input,concatenate,Concatenate\n",
    "from tensorflow.keras.models import Model,Sequential\n",
    "\n",
    "d1=np.zeros(trainX.shape[0]).reshape(trainX.shape[0],1,1)\n",
    "d2=np.zeros(trainX.shape[0]).reshape(trainX.shape[0],1,1)\n",
    "y=data\n",
    "\n",
    "for i in range(trainX.shape[0]):\n",
    "  if i==0:\n",
    "    d1[i]=0\n",
    "    d2[i]=y[i]**2\n",
    "  elif i==1:\n",
    "    d1[i]=y[i-1]**2\n",
    "    d2[i]=(y[i]-y[i-1])**2\n",
    "  else:\n",
    "    d1[i]=(y[i-1]-y[i-2])**2\n",
    "    d2[i]=(y[i]-y[i-1])**2\n",
    "\n",
    "x1=Input(shape=(trainX.shape[0],1,1 ))\n",
    "x2=Input(shape=(trainX.shape[0],1 ,1))\n",
    "\n",
    "#y1=concatenate([x1,x2],axis=-1)\n",
    "y1=Concatenate(axis=-1)([x1, x2])\n",
    "\n",
    "model=Model([x1,x2],y1)\n",
    "model.predict([[d1],[d2]])\n",
    "model.summary()\n",
    "diff=np.concatenate([d1,d2],axis=-1)\n",
    "#diff=Concatenate(axis=-1)([d1,d2])\n",
    "diff\n"
   ]
  },
  {
   "cell_type": "code",
   "execution_count": 12,
   "metadata": {
    "colab": {
     "base_uri": "https://localhost:8080/",
     "height": 34
    },
    "colab_type": "code",
    "id": "ABNC_z1GRuEJ",
    "outputId": "a7cf3e3f-0892-41aa-b174-c995b653ec3b"
   },
   "outputs": [
    {
     "name": "stdout",
     "output_type": "stream",
     "text": [
      "(?, 12719, 1, 2)\n",
      "(12719, 1, 2)\n"
     ]
    }
   ],
   "source": [
    "print(y1.shape)\n",
    "print(diff .shape)"
   ]
  },
  {
   "cell_type": "markdown",
   "metadata": {},
   "source": [
    "# Here all the formula proposed in research paper step by step explanation"
   ]
  },
  {
   "cell_type": "code",
   "execution_count": 15,
   "metadata": {
    "colab": {
     "base_uri": "https://localhost:8080/",
     "height": 802
    },
    "colab_type": "code",
    "id": "o4z_-zLfcKCB",
    "outputId": "c5d35b19-039a-416f-d69f-c8b3ad1b47c1"
   },
   "outputs": [
    {
     "name": "stdout",
     "output_type": "stream",
     "text": [
      "(?, 1, 20)\n",
      "(12719, 1, 20)\n",
      "<class 'numpy.ndarray'>\n"
     ]
    }
   ],
   "source": [
    "import tensorflow as tf\n",
    "from tensorflow.keras.layers import Dense,LSTM,RepeatVector,Input,Concatenate,Multiply,Lambda,Dot,Activation,Flatten,dot\n",
    "from tensorflow.keras.models import Model\n",
    "from keras import backend as K\n",
    "\n",
    "#import keras\n",
    "encoder_input=Input(shape=(time_steps,1))\n",
    "encoder_output=LSTM(20,return_sequences=True)(encoder_input)\n",
    "print(encoder_output.shape)\n",
    "\n",
    "model=Model(encoder_input,encoder_output)\n",
    "hidden_output=model.predict([trainX,trainY])\n",
    "print(hidden_output.shape)\n",
    "print(type(hidden_output))"
   ]
  },
  {
   "cell_type": "markdown",
   "metadata": {},
   "source": [
    "concatinating hidden_output with diff"
   ]
  },
  {
   "cell_type": "code",
   "execution_count": 18,
   "metadata": {
    "colab": {
     "base_uri": "https://localhost:8080/",
     "height": 802
    },
    "colab_type": "code",
    "id": "o4z_-zLfcKCB",
    "outputId": "c5d35b19-039a-416f-d69f-c8b3ad1b47c1"
   },
   "outputs": [
    {
     "name": "stdout",
     "output_type": "stream",
     "text": [
      "[[[ 3.91883738e-02 -1.49229234e-02  1.46198533e-02 ... -1.21895792e-02\n",
      "    0.00000000e+00  8.05667808e-01]]\n",
      "\n",
      " [[ 3.91899459e-02 -1.49236489e-02  1.46204829e-02 ... -1.21901557e-02\n",
      "    8.05667808e-01  1.60000000e-09]]\n",
      "\n",
      " [[ 3.91899459e-02 -1.49236489e-02  1.46204829e-02 ... -1.21901557e-02\n",
      "    1.60000000e-09  0.00000000e+00]]\n",
      "\n",
      " ...\n",
      "\n",
      " [[ 3.48139480e-02 -1.29588917e-02  1.28885470e-02 ... -1.06152361e-02\n",
      "    2.22010000e-06  2.16090000e-06]]\n",
      "\n",
      " [[ 3.47087756e-02 -1.29128201e-02  1.28473239e-02 ... -1.05782058e-02\n",
      "    2.16090000e-06  6.76000000e-06]]\n",
      "\n",
      " [[ 3.47290002e-02 -1.29216779e-02  1.28552495e-02 ... -1.05853258e-02\n",
      "    6.76000000e-06  2.50000000e-07]]]\n",
      "<class 'numpy.ndarray'>\n",
      "(12719, 1, 22)\n"
     ]
    }
   ],
   "source": [
    "concatenation=np.concatenate([hidden_output,diff],axis=-1)\n",
    "print(concatenation)\n",
    "print(type(concatenation))\n",
    "print(concatenation.shape)\n",
    "\n",
    "#print((concatenation).reshape(12719*22)[0:20])\n",
    "#print(type(concatenation.reshape(279818)))"
   ]
  },
  {
   "cell_type": "markdown",
   "metadata": {},
   "source": [
    "Applying softmax function"
   ]
  },
  {
   "cell_type": "code",
   "execution_count": 20,
   "metadata": {
    "colab": {
     "base_uri": "https://localhost:8080/",
     "height": 802
    },
    "colab_type": "code",
    "id": "o4z_-zLfcKCB",
    "outputId": "c5d35b19-039a-416f-d69f-c8b3ad1b47c1"
   },
   "outputs": [
    {
     "name": "stdout",
     "output_type": "stream",
     "text": [
      "[[3.7398927e-06 3.5428998e-06 3.6491283e-06 ... 3.5583012e-06\n",
      "  3.5961909e-06 3.5961677e-06]]\n"
     ]
    }
   ],
   "source": [
    "a1=concatenation.reshape(279818)\n",
    "#print(a1)\n",
    "x1=Input(shape=(279818,))\n",
    "y1=Activation('softmax')(x1)\n",
    "model2=Model([x1],y1)\n",
    "alpha_t=model2.predict([[a1]])\n",
    "print(model2.predict([[a1]]))"
   ]
  },
  {
   "cell_type": "markdown",
   "metadata": {},
   "source": [
    "Taking dot product"
   ]
  },
  {
   "cell_type": "code",
   "execution_count": 21,
   "metadata": {},
   "outputs": [
    {
     "data": {
      "text/plain": [
       "(1, 12719, 1, 1)"
      ]
     },
     "execution_count": 21,
     "metadata": {},
     "output_type": "execute_result"
    }
   ],
   "source": [
    "h_t=a1.reshape(12719, 1, 22)\n",
    "alpha_t=alpha_t.reshape(12719, 1, 22)\n",
    "\n",
    "x2=Input(shape=(12719,1,22))\n",
    "x3=Input(shape=(12719,1,22))\n",
    "\n",
    "y1=dot([x2,x3],axes=3)\n",
    "model3=Model([x2,x3],y1)\n",
    "mul=model3.predict([[alpha_t],[h_t]])\n",
    "\n",
    "mul.shape\n"
   ]
  },
  {
   "cell_type": "markdown",
   "metadata": {},
   "source": [
    "Summation of dot product"
   ]
  },
  {
   "cell_type": "code",
   "execution_count": 25,
   "metadata": {},
   "outputs": [
    {
     "name": "stdout",
     "output_type": "stream",
     "text": [
      "[[[ 6.0229245e-06]\n",
      "  [ 6.0229045e-06]\n",
      "  [-4.6184093e-07]\n",
      "  ...\n",
      "  [-4.0722176e-07]\n",
      "  [-4.0590365e-07]\n",
      "  [-4.0616084e-07]]]\n"
     ]
    }
   ],
   "source": [
    "net=mul\n",
    "net_input=Input(shape=(12719,1,1))\n",
    "summation=Lambda(lambda mul: K.sum(mul, axis=2))(net_input)\n",
    "test_model=Model(net_input,summation)\n",
    "summation=test_model.predict(mul)\n",
    "print(summation)"
   ]
  },
  {
   "cell_type": "code",
   "execution_count": 26,
   "metadata": {},
   "outputs": [
    {
     "data": {
      "text/plain": [
       "(1, 12719, 1)"
      ]
     },
     "execution_count": 26,
     "metadata": {},
     "output_type": "execute_result"
    }
   ],
   "source": [
    "summation.shape"
   ]
  },
  {
   "cell_type": "code",
   "execution_count": 27,
   "metadata": {},
   "outputs": [
    {
     "data": {
      "text/plain": [
       "array([[[ 6.0229245e-06]],\n",
       "\n",
       "       [[ 6.0229045e-06]],\n",
       "\n",
       "       [[-4.6184093e-07]],\n",
       "\n",
       "       ...,\n",
       "\n",
       "       [[-4.0722176e-07]],\n",
       "\n",
       "       [[-4.0590365e-07]],\n",
       "\n",
       "       [[-4.0616084e-07]]], dtype=float32)"
      ]
     },
     "execution_count": 27,
     "metadata": {},
     "output_type": "execute_result"
    }
   ],
   "source": [
    "summation=summation.reshape(12719,1,1)\n",
    "summation"
   ]
  },
  {
   "cell_type": "code",
   "execution_count": 28,
   "metadata": {},
   "outputs": [
    {
     "data": {
      "text/plain": [
       "(12719, 1, 1)"
      ]
     },
     "execution_count": 28,
     "metadata": {},
     "output_type": "execute_result"
    }
   ],
   "source": [
    "summation.shape"
   ]
  },
  {
   "cell_type": "markdown",
   "metadata": {},
   "source": [
    "DA_lstm model"
   ]
  },
  {
   "cell_type": "code",
   "execution_count": 29,
   "metadata": {},
   "outputs": [
    {
     "name": "stdout",
     "output_type": "stream",
     "text": [
      "_________________________________________________________________\n",
      "Layer (type)                 Output Shape              Param #   \n",
      "=================================================================\n",
      "input_12 (InputLayer)        (None, 1, 1)              0         \n",
      "_________________________________________________________________\n",
      "dense (Dense)                (None, 1, 1)              2         \n",
      "=================================================================\n",
      "Total params: 2\n",
      "Trainable params: 2\n",
      "Non-trainable params: 0\n",
      "_________________________________________________________________\n"
     ]
    }
   ],
   "source": [
    "dense_input=Input(shape=(1,1))\n",
    "\n",
    "dense_output=(Dense(1))(dense_input)\n",
    "da_lstm=Model(dense_input,dense_output)\n",
    "da_lstm.summary()"
   ]
  },
  {
   "cell_type": "markdown",
   "metadata": {},
   "source": [
    "loss function used by author"
   ]
  },
  {
   "cell_type": "code",
   "execution_count": 32,
   "metadata": {},
   "outputs": [
    {
     "name": "stdout",
     "output_type": "stream",
     "text": [
      "Epoch 1/2\n",
      "12719/12719 [==============================] - 1s 47us/sample - loss: 6.2274e-04\n",
      "Epoch 2/2\n",
      "12719/12719 [==============================] - 0s 31us/sample - loss: 1.3097e-05\n"
     ]
    },
    {
     "data": {
      "text/plain": [
       "<tensorflow.python.keras.callbacks.History at 0x7f6ba679ad10>"
      ]
     },
     "execution_count": 32,
     "metadata": {},
     "output_type": "execute_result"
    }
   ],
   "source": [
    "def custom_loss(y_true, y_pred):\n",
    "    return K.mean(y_true - y_pred)**2\n",
    "\n",
    "da_lstm.compile(loss=custom_loss,optimizer='adam')\n",
    "da_lstm.fit((trainX),(trainY), epochs=2,batch_size=64)"
   ]
  },
  {
   "cell_type": "markdown",
   "metadata": {},
   "source": [
    "Preiction over test data"
   ]
  },
  {
   "cell_type": "code",
   "execution_count": 58,
   "metadata": {},
   "outputs": [
    {
     "data": {
      "text/plain": [
       "array([[[0.809259  ]],\n",
       "\n",
       "       [[0.8089845 ]],\n",
       "\n",
       "       [[0.8081768 ]],\n",
       "\n",
       "       ...,\n",
       "\n",
       "       [[0.6969218 ]],\n",
       "\n",
       "       [[0.69153476]],\n",
       "\n",
       "       [[0.69300896]]], dtype=float32)"
      ]
     },
     "execution_count": 58,
     "metadata": {},
     "output_type": "execute_result"
    }
   ],
   "source": [
    "prediction_testX=da_lstm.predict(testX)\n",
    "prediction_testX"
   ]
  },
  {
   "cell_type": "code",
   "execution_count": 59,
   "metadata": {},
   "outputs": [
    {
     "data": {
      "text/plain": [
       "(3180, 1, 1)"
      ]
     },
     "execution_count": 59,
     "metadata": {},
     "output_type": "execute_result"
    }
   ],
   "source": [
    "prediction_testX.shape"
   ]
  },
  {
   "cell_type": "code",
   "execution_count": 61,
   "metadata": {},
   "outputs": [
    {
     "data": {
      "text/plain": [
       "(3180, 1, 1)"
      ]
     },
     "execution_count": 61,
     "metadata": {},
     "output_type": "execute_result"
    }
   ],
   "source": [
    "testY.reshape(prediction_testX.shape[0], 1, 1).shape"
   ]
  },
  {
   "cell_type": "markdown",
   "metadata": {},
   "source": [
    "# Error correction LSTM"
   ]
  },
  {
   "cell_type": "code",
   "execution_count": 63,
   "metadata": {},
   "outputs": [
    {
     "data": {
      "text/plain": [
       "array([[[-0.022699  ]],\n",
       "\n",
       "       [[-0.02345452]],\n",
       "\n",
       "       [[-0.02345682]],\n",
       "\n",
       "       ...,\n",
       "\n",
       "       [[-0.06014183]],\n",
       "\n",
       "       [[-0.05287476]],\n",
       "\n",
       "       [[-0.06114896]]])"
      ]
     },
     "execution_count": 63,
     "metadata": {},
     "output_type": "execute_result"
    }
   ],
   "source": [
    "difference=testY.reshape(prediction_testX.shape[0], 1, 1)-prediction_testX\n",
    "difference"
   ]
  },
  {
   "cell_type": "code",
   "execution_count": 64,
   "metadata": {
    "colab": {},
    "colab_type": "code",
    "id": "Rz1bWilNvtS0"
   },
   "outputs": [
    {
     "data": {
      "text/plain": [
       "(3180, 1, 1)"
      ]
     },
     "execution_count": 64,
     "metadata": {},
     "output_type": "execute_result"
    }
   ],
   "source": [
    "difference.shape"
   ]
  },
  {
   "cell_type": "code",
   "execution_count": 66,
   "metadata": {
    "colab": {},
    "colab_type": "code",
    "id": "xOtuatRYek_8"
   },
   "outputs": [
    {
     "data": {
      "text/plain": [
       "array([[-0.022699  ],\n",
       "       [-0.02345452],\n",
       "       [-0.02345682],\n",
       "       ...,\n",
       "       [-0.06014183],\n",
       "       [-0.05287476],\n",
       "       [-0.06114896]])"
      ]
     },
     "execution_count": 66,
     "metadata": {},
     "output_type": "execute_result"
    }
   ],
   "source": [
    "error=difference.reshape(prediction_testX.shape[0], 1)\n",
    "error"
   ]
  },
  {
   "cell_type": "code",
   "execution_count": 67,
   "metadata": {
    "colab": {},
    "colab_type": "code",
    "id": "qNnVfphBekwx"
   },
   "outputs": [
    {
     "name": "stdout",
     "output_type": "stream",
     "text": [
      "Train-size= 2543\n",
      "Test-size= 636\n",
      "Error TrainX= (2543, 1, 1)\n",
      "Error TrainY= (2543, 1, 1)\n"
     ]
    }
   ],
   "source": [
    "time_steps=1\n",
    "error_dataX,error_dataY=split_set(error,time_steps)\n",
    "\n",
    "\n",
    "error_train_size=int(len(error_dataX)*0.80)\n",
    "error_test_size=len(error_dataX)-error_train_size\n",
    "\n",
    "print('Train-size=',error_train_size)\n",
    "print('Test-size=',error_test_size)\n",
    "\n",
    "\n",
    "error_trainX=error_dataX[0:error_train_size,]\n",
    "error_trainY=error_dataY[0:error_train_size,]\n",
    "\n",
    "\n",
    "error_testX=error_dataX[error_train_size:len(error),]\n",
    "error_testY=error_dataY[error_train_size:len(error),]\n",
    "\n",
    "\n",
    "\n",
    "\n",
    "error_trainX=error_trainX.reshape(error_trainX.shape[0],time_steps,1)\n",
    "error_testX=error_testX.reshape(error_testX.shape[0],time_steps,1)\n",
    "print('Error TrainX=',error_trainX.shape)\n",
    "print('Error TrainY=',error_trainY.shape)"
   ]
  },
  {
   "cell_type": "code",
   "execution_count": 70,
   "metadata": {},
   "outputs": [],
   "source": [
    "error_trainY=error_trainY.reshape(error_trainY.shape[0],1)"
   ]
  },
  {
   "cell_type": "markdown",
   "metadata": {},
   "source": [
    "ec model"
   ]
  },
  {
   "cell_type": "code",
   "execution_count": 71,
   "metadata": {
    "colab": {},
    "colab_type": "code",
    "id": "qWleTbogekaq"
   },
   "outputs": [
    {
     "name": "stdout",
     "output_type": "stream",
     "text": [
      "_________________________________________________________________\n",
      "Layer (type)                 Output Shape              Param #   \n",
      "=================================================================\n",
      "input_14 (InputLayer)        (None, 1, 1)              0         \n",
      "_________________________________________________________________\n",
      "lstm_4 (LSTM)                (None, 1, 40)             6720      \n",
      "_________________________________________________________________\n",
      "lstm_5 (LSTM)                (None, 40)                12960     \n",
      "_________________________________________________________________\n",
      "dense_3 (Dense)              (None, 20)                820       \n",
      "_________________________________________________________________\n",
      "dense_4 (Dense)              (None, 1)                 21        \n",
      "=================================================================\n",
      "Total params: 20,521\n",
      "Trainable params: 20,521\n",
      "Non-trainable params: 0\n",
      "_________________________________________________________________\n"
     ]
    }
   ],
   "source": [
    "import tensorflow as tf\n",
    "from tensorflow.keras.layers import Dense,LSTM,Input\n",
    "from tensorflow.keras.models import Model\n",
    "from tensorflow.keras.regularizers import l1, l2, l1_l2\n",
    "\n",
    "error_encoder_input_shape=Input(shape=(1,1))\n",
    "encoder_lstm1=LSTM(40,return_sequences=True)(error_encoder_input_shape)\n",
    "encoder_lstm2=LSTM(40)(encoder_lstm1)\n",
    "dense1=Dense(20)(encoder_lstm2)\n",
    "output=Dense(1,kernel_regularizer=l2(2e-4))(dense1)\n",
    "ec_lstm=Model(error_encoder_input_shape,output)\n",
    "ec_lstm.summary()\n",
    "\n",
    "def custom_loss(y_true, y_pred):\n",
    "    return K.mean(y_true - y_pred)**2\n",
    "\n",
    "ec_lstm.compile(loss=custom_loss,optimizer='adam')\n"
   ]
  },
  {
   "cell_type": "markdown",
   "metadata": {},
   "source": [
    "Model fitting"
   ]
  },
  {
   "cell_type": "code",
   "execution_count": 72,
   "metadata": {
    "colab": {},
    "colab_type": "code",
    "id": "PP7llqPzU4OP"
   },
   "outputs": [
    {
     "name": "stdout",
     "output_type": "stream",
     "text": [
      "Epoch 1/2\n",
      "2543/2543 [==============================] - 4s 1ms/sample - loss: 4.7382e-04\n",
      "Epoch 2/2\n",
      "2543/2543 [==============================] - 0s 139us/sample - loss: 2.9934e-04\n"
     ]
    },
    {
     "data": {
      "text/plain": [
       "<tensorflow.python.keras.callbacks.History at 0x7f6ba45bfdd0>"
      ]
     },
     "execution_count": 72,
     "metadata": {},
     "output_type": "execute_result"
    }
   ],
   "source": [
    "ec_lstm.fit(error_trainX,error_trainY,epochs=2)"
   ]
  },
  {
   "cell_type": "markdown",
   "metadata": {},
   "source": [
    "All prediction values"
   ]
  },
  {
   "cell_type": "code",
   "execution_count": 73,
   "metadata": {
    "colab": {},
    "colab_type": "code",
    "id": "HyaFgy3x2mfz"
   },
   "outputs": [
    {
     "data": {
      "text/plain": [
       "array([[-0.0366268 ],\n",
       "       [-0.03663317],\n",
       "       [-0.03663318],\n",
       "       ...,\n",
       "       [-0.03682161],\n",
       "       [-0.03681433],\n",
       "       [-0.03683054]], dtype=float32)"
      ]
     },
     "execution_count": 73,
     "metadata": {},
     "output_type": "execute_result"
    }
   ],
   "source": [
    "EC_trainX=ec_lstm.predict(error_trainX)\n",
    "EC_trainX"
   ]
  },
  {
   "cell_type": "code",
   "execution_count": 74,
   "metadata": {},
   "outputs": [
    {
     "data": {
      "text/plain": [
       "array([[-0.03683005],\n",
       "       [-0.03682299],\n",
       "       [-0.036832  ],\n",
       "       [-0.03682549],\n",
       "       [-0.03684181],\n",
       "       [-0.03682431],\n",
       "       [-0.03683019],\n",
       "       [-0.03681007],\n",
       "       [-0.03682556],\n",
       "       [-0.03680328],\n",
       "       [-0.03681861],\n",
       "       [-0.03680775],\n",
       "       [-0.03679427],\n",
       "       [-0.03681419],\n",
       "       [-0.03681444],\n",
       "       [-0.03680985],\n",
       "       [-0.03680713],\n",
       "       [-0.03680795],\n",
       "       [-0.03680589],\n",
       "       [-0.03680573],\n",
       "       [-0.03680382],\n",
       "       [-0.03680773],\n",
       "       [-0.03680152],\n",
       "       [-0.03679462],\n",
       "       [-0.03680339],\n",
       "       [-0.03680439],\n",
       "       [-0.03681221],\n",
       "       [-0.03679867],\n",
       "       [-0.03679977],\n",
       "       [-0.0368049 ],\n",
       "       [-0.03681731],\n",
       "       [-0.03680258],\n",
       "       [-0.03680501],\n",
       "       [-0.03681194],\n",
       "       [-0.03680861],\n",
       "       [-0.0368174 ],\n",
       "       [-0.03680837],\n",
       "       [-0.0368094 ],\n",
       "       [-0.03680269],\n",
       "       [-0.03680886],\n",
       "       [-0.03680689],\n",
       "       [-0.0368154 ],\n",
       "       [-0.03681274],\n",
       "       [-0.03681244],\n",
       "       [-0.03682683],\n",
       "       [-0.0368144 ],\n",
       "       [-0.03681554],\n",
       "       [-0.03680378],\n",
       "       [-0.03681311],\n",
       "       [-0.03680926],\n",
       "       [-0.0368203 ],\n",
       "       [-0.03681348],\n",
       "       [-0.03681456],\n",
       "       [-0.03681123],\n",
       "       [-0.03680832],\n",
       "       [-0.03680677],\n",
       "       [-0.03680653],\n",
       "       [-0.03681121],\n",
       "       [-0.03680194],\n",
       "       [-0.03680368],\n",
       "       [-0.03680669],\n",
       "       [-0.03679776],\n",
       "       [-0.03680986],\n",
       "       [-0.03680379],\n",
       "       [-0.03680343],\n",
       "       [-0.03680344],\n",
       "       [-0.0368034 ],\n",
       "       [-0.03680376],\n",
       "       [-0.0367805 ],\n",
       "       [-0.03678817],\n",
       "       [-0.03678696],\n",
       "       [-0.03679613],\n",
       "       [-0.03680023],\n",
       "       [-0.03680253],\n",
       "       [-0.03681353],\n",
       "       [-0.03679979],\n",
       "       [-0.03678967],\n",
       "       [-0.03679673],\n",
       "       [-0.03680304],\n",
       "       [-0.03678593],\n",
       "       [-0.03680121],\n",
       "       [-0.03679521],\n",
       "       [-0.03679214],\n",
       "       [-0.03679458],\n",
       "       [-0.03680475],\n",
       "       [-0.03680261],\n",
       "       [-0.03680775],\n",
       "       [-0.0368017 ],\n",
       "       [-0.03679124],\n",
       "       [-0.03678225],\n",
       "       [-0.03679428],\n",
       "       [-0.03680857],\n",
       "       [-0.03680956],\n",
       "       [-0.03680027],\n",
       "       [-0.03679855],\n",
       "       [-0.03679411],\n",
       "       [-0.03680084],\n",
       "       [-0.03680171],\n",
       "       [-0.03681347],\n",
       "       [-0.03680287],\n",
       "       [-0.03681361],\n",
       "       [-0.0367744 ],\n",
       "       [-0.03679627],\n",
       "       [-0.03679655],\n",
       "       [-0.03679818],\n",
       "       [-0.0368031 ],\n",
       "       [-0.03681714],\n",
       "       [-0.03680118],\n",
       "       [-0.03681523],\n",
       "       [-0.0368098 ],\n",
       "       [-0.03681036],\n",
       "       [-0.03680737],\n",
       "       [-0.03680928],\n",
       "       [-0.0368035 ],\n",
       "       [-0.03680514],\n",
       "       [-0.03681322],\n",
       "       [-0.03680728],\n",
       "       [-0.03681111],\n",
       "       [-0.03681007],\n",
       "       [-0.03680451],\n",
       "       [-0.03681362],\n",
       "       [-0.03680997],\n",
       "       [-0.03681082],\n",
       "       [-0.03680146],\n",
       "       [-0.0368179 ],\n",
       "       [-0.03680683],\n",
       "       [-0.03682553],\n",
       "       [-0.03680811],\n",
       "       [-0.03680937],\n",
       "       [-0.03680884],\n",
       "       [-0.03683984],\n",
       "       [-0.03681712],\n",
       "       [-0.03682329],\n",
       "       [-0.03683146],\n",
       "       [-0.03681802],\n",
       "       [-0.03681134],\n",
       "       [-0.03681888],\n",
       "       [-0.03681879],\n",
       "       [-0.03681259],\n",
       "       [-0.03680799],\n",
       "       [-0.03681002],\n",
       "       [-0.03681662],\n",
       "       [-0.03681471],\n",
       "       [-0.03681462],\n",
       "       [-0.03681814],\n",
       "       [-0.03680987],\n",
       "       [-0.03681584],\n",
       "       [-0.03681846],\n",
       "       [-0.03682806],\n",
       "       [-0.03680761],\n",
       "       [-0.03679944],\n",
       "       [-0.03681064],\n",
       "       [-0.03681668],\n",
       "       [-0.03681104],\n",
       "       [-0.03682116],\n",
       "       [-0.03681374],\n",
       "       [-0.03681967],\n",
       "       [-0.03681063],\n",
       "       [-0.03682923],\n",
       "       [-0.036816  ],\n",
       "       [-0.03681835],\n",
       "       [-0.03681463],\n",
       "       [-0.03681165],\n",
       "       [-0.03682333],\n",
       "       [-0.03683036],\n",
       "       [-0.03681538],\n",
       "       [-0.03682049],\n",
       "       [-0.03681151],\n",
       "       [-0.03682455],\n",
       "       [-0.03681988],\n",
       "       [-0.03682331],\n",
       "       [-0.03681219],\n",
       "       [-0.03681822],\n",
       "       [-0.03681993],\n",
       "       [-0.03682271],\n",
       "       [-0.03682845],\n",
       "       [-0.03682126],\n",
       "       [-0.03681834],\n",
       "       [-0.03682297],\n",
       "       [-0.03681123],\n",
       "       [-0.03682803],\n",
       "       [-0.03681757],\n",
       "       [-0.03681951],\n",
       "       [-0.03681986],\n",
       "       [-0.03681938],\n",
       "       [-0.0368248 ],\n",
       "       [-0.03681785],\n",
       "       [-0.03682333],\n",
       "       [-0.03682432],\n",
       "       [-0.03682362],\n",
       "       [-0.03682917],\n",
       "       [-0.03682505],\n",
       "       [-0.03682106],\n",
       "       [-0.03682416],\n",
       "       [-0.03682248],\n",
       "       [-0.03682218],\n",
       "       [-0.03682034],\n",
       "       [-0.03682043],\n",
       "       [-0.03682312],\n",
       "       [-0.0368311 ],\n",
       "       [-0.03682231],\n",
       "       [-0.03681989],\n",
       "       [-0.03682015],\n",
       "       [-0.03681441],\n",
       "       [-0.03681379],\n",
       "       [-0.03679639],\n",
       "       [-0.03681128],\n",
       "       [-0.0368147 ],\n",
       "       [-0.03679436],\n",
       "       [-0.03679808],\n",
       "       [-0.03680647],\n",
       "       [-0.0368182 ],\n",
       "       [-0.03680916],\n",
       "       [-0.03680557],\n",
       "       [-0.03682102],\n",
       "       [-0.03681722],\n",
       "       [-0.0368003 ],\n",
       "       [-0.03680239],\n",
       "       [-0.03680953],\n",
       "       [-0.0368077 ],\n",
       "       [-0.03681266],\n",
       "       [-0.03681063],\n",
       "       [-0.03682112],\n",
       "       [-0.03681022],\n",
       "       [-0.03681083],\n",
       "       [-0.03680896],\n",
       "       [-0.03680833],\n",
       "       [-0.03680794],\n",
       "       [-0.03680075],\n",
       "       [-0.03681707],\n",
       "       [-0.0368124 ],\n",
       "       [-0.03681446],\n",
       "       [-0.0368139 ],\n",
       "       [-0.03681168],\n",
       "       [-0.03681746],\n",
       "       [-0.03680705],\n",
       "       [-0.03681334],\n",
       "       [-0.03681453],\n",
       "       [-0.03680747],\n",
       "       [-0.03681774],\n",
       "       [-0.03682414],\n",
       "       [-0.03681613],\n",
       "       [-0.03681454],\n",
       "       [-0.03681603],\n",
       "       [-0.03681349],\n",
       "       [-0.03680398],\n",
       "       [-0.03679932],\n",
       "       [-0.03679257],\n",
       "       [-0.03678733],\n",
       "       [-0.0368063 ],\n",
       "       [-0.03679889],\n",
       "       [-0.03680484],\n",
       "       [-0.03679424],\n",
       "       [-0.03678997],\n",
       "       [-0.0367947 ],\n",
       "       [-0.03677585],\n",
       "       [-0.03680148],\n",
       "       [-0.03679514],\n",
       "       [-0.03680322],\n",
       "       [-0.03679963],\n",
       "       [-0.03682782],\n",
       "       [-0.03679614],\n",
       "       [-0.03680391],\n",
       "       [-0.03680613],\n",
       "       [-0.03679012],\n",
       "       [-0.03680126],\n",
       "       [-0.03680378],\n",
       "       [-0.03680732],\n",
       "       [-0.03681485],\n",
       "       [-0.03680712],\n",
       "       [-0.03681713],\n",
       "       [-0.03680712],\n",
       "       [-0.03680464],\n",
       "       [-0.03681117],\n",
       "       [-0.03681287],\n",
       "       [-0.03680691],\n",
       "       [-0.03680349],\n",
       "       [-0.03680305],\n",
       "       [-0.03681321],\n",
       "       [-0.03678726],\n",
       "       [-0.03680335],\n",
       "       [-0.03680171],\n",
       "       [-0.03680874],\n",
       "       [-0.03679463],\n",
       "       [-0.03680222],\n",
       "       [-0.03679397],\n",
       "       [-0.03679825],\n",
       "       [-0.03680266],\n",
       "       [-0.03679769],\n",
       "       [-0.03679496],\n",
       "       [-0.03680114],\n",
       "       [-0.03679354],\n",
       "       [-0.03679658],\n",
       "       [-0.03679254],\n",
       "       [-0.03678847],\n",
       "       [-0.03680187],\n",
       "       [-0.03679318],\n",
       "       [-0.03679055],\n",
       "       [-0.03680192],\n",
       "       [-0.03679423],\n",
       "       [-0.03679819],\n",
       "       [-0.03678869],\n",
       "       [-0.03679506],\n",
       "       [-0.036796  ],\n",
       "       [-0.03679838],\n",
       "       [-0.03679126],\n",
       "       [-0.03679637],\n",
       "       [-0.03679427],\n",
       "       [-0.03679291],\n",
       "       [-0.03679365],\n",
       "       [-0.0367874 ],\n",
       "       [-0.03678456],\n",
       "       [-0.03679011],\n",
       "       [-0.03678713],\n",
       "       [-0.03678675],\n",
       "       [-0.03677306],\n",
       "       [-0.03677966],\n",
       "       [-0.03678289],\n",
       "       [-0.03678018],\n",
       "       [-0.03677764],\n",
       "       [-0.03678392],\n",
       "       [-0.03678011],\n",
       "       [-0.03677791],\n",
       "       [-0.03678277],\n",
       "       [-0.03677816],\n",
       "       [-0.03677998],\n",
       "       [-0.03677619],\n",
       "       [-0.03676909],\n",
       "       [-0.03677145],\n",
       "       [-0.03678181],\n",
       "       [-0.03677588],\n",
       "       [-0.036784  ],\n",
       "       [-0.03678863],\n",
       "       [-0.0367866 ],\n",
       "       [-0.03677886],\n",
       "       [-0.03678805],\n",
       "       [-0.03678267],\n",
       "       [-0.03679791],\n",
       "       [-0.03679723],\n",
       "       [-0.0367956 ],\n",
       "       [-0.03678181],\n",
       "       [-0.03679015],\n",
       "       [-0.03679454],\n",
       "       [-0.03679606],\n",
       "       [-0.03678533],\n",
       "       [-0.03678836],\n",
       "       [-0.03680015],\n",
       "       [-0.03679459],\n",
       "       [-0.03679112],\n",
       "       [-0.0367964 ],\n",
       "       [-0.03680902],\n",
       "       [-0.03681836],\n",
       "       [-0.03681894],\n",
       "       [-0.03680624],\n",
       "       [-0.03680397],\n",
       "       [-0.03679567],\n",
       "       [-0.03680175],\n",
       "       [-0.03681302],\n",
       "       [-0.0367999 ],\n",
       "       [-0.03680622],\n",
       "       [-0.036801  ],\n",
       "       [-0.03680693],\n",
       "       [-0.03680301],\n",
       "       [-0.036813  ],\n",
       "       [-0.03680843],\n",
       "       [-0.03681149],\n",
       "       [-0.03679663],\n",
       "       [-0.03679848],\n",
       "       [-0.03680141],\n",
       "       [-0.03679525],\n",
       "       [-0.0367856 ],\n",
       "       [-0.03679894],\n",
       "       [-0.0367955 ],\n",
       "       [-0.0367922 ],\n",
       "       [-0.03679734],\n",
       "       [-0.0368057 ],\n",
       "       [-0.03679129],\n",
       "       [-0.03679856],\n",
       "       [-0.03680301],\n",
       "       [-0.03680171],\n",
       "       [-0.03679488],\n",
       "       [-0.03680177],\n",
       "       [-0.0367967 ],\n",
       "       [-0.03680057],\n",
       "       [-0.03680025],\n",
       "       [-0.03680187],\n",
       "       [-0.03679999],\n",
       "       [-0.03680264],\n",
       "       [-0.0367847 ],\n",
       "       [-0.03680212],\n",
       "       [-0.03679099],\n",
       "       [-0.03680335],\n",
       "       [-0.0367903 ],\n",
       "       [-0.03678509],\n",
       "       [-0.03680027],\n",
       "       [-0.03681664],\n",
       "       [-0.03679688],\n",
       "       [-0.03679943],\n",
       "       [-0.03679365],\n",
       "       [-0.03679909],\n",
       "       [-0.03681195],\n",
       "       [-0.03681338],\n",
       "       [-0.03680066],\n",
       "       [-0.03680031],\n",
       "       [-0.03680078],\n",
       "       [-0.03681684],\n",
       "       [-0.03680399],\n",
       "       [-0.03680108],\n",
       "       [-0.03680158],\n",
       "       [-0.03681458],\n",
       "       [-0.03680734],\n",
       "       [-0.03679828],\n",
       "       [-0.0368086 ],\n",
       "       [-0.03682018],\n",
       "       [-0.03681283],\n",
       "       [-0.03681264],\n",
       "       [-0.03681003],\n",
       "       [-0.03680047],\n",
       "       [-0.03680941],\n",
       "       [-0.03681569],\n",
       "       [-0.03678229],\n",
       "       [-0.03680389],\n",
       "       [-0.0368064 ],\n",
       "       [-0.03680331],\n",
       "       [-0.03681072],\n",
       "       [-0.0368224 ],\n",
       "       [-0.03680798],\n",
       "       [-0.03680974],\n",
       "       [-0.03680307],\n",
       "       [-0.0368139 ],\n",
       "       [-0.03681159],\n",
       "       [-0.03682602],\n",
       "       [-0.03682095],\n",
       "       [-0.03682287],\n",
       "       [-0.03681896],\n",
       "       [-0.03684079],\n",
       "       [-0.03682568],\n",
       "       [-0.03683274],\n",
       "       [-0.03682558],\n",
       "       [-0.03682274],\n",
       "       [-0.03682584],\n",
       "       [-0.03682929],\n",
       "       [-0.03682636],\n",
       "       [-0.03682108],\n",
       "       [-0.03681725],\n",
       "       [-0.03682005],\n",
       "       [-0.0368272 ],\n",
       "       [-0.03683663],\n",
       "       [-0.03683103],\n",
       "       [-0.03681643],\n",
       "       [-0.0368316 ],\n",
       "       [-0.03683428],\n",
       "       [-0.03683327],\n",
       "       [-0.03683379],\n",
       "       [-0.0368427 ],\n",
       "       [-0.03682946],\n",
       "       [-0.0368272 ],\n",
       "       [-0.03683582],\n",
       "       [-0.03683532],\n",
       "       [-0.03684655],\n",
       "       [-0.03683401],\n",
       "       [-0.0368423 ],\n",
       "       [-0.03683065],\n",
       "       [-0.0368363 ],\n",
       "       [-0.03683351],\n",
       "       [-0.03683742],\n",
       "       [-0.03683342],\n",
       "       [-0.03684676],\n",
       "       [-0.03683526],\n",
       "       [-0.03681299],\n",
       "       [-0.03682597],\n",
       "       [-0.03683673],\n",
       "       [-0.03682068],\n",
       "       [-0.03682641],\n",
       "       [-0.03682726],\n",
       "       [-0.03682734],\n",
       "       [-0.03680373],\n",
       "       [-0.03682474],\n",
       "       [-0.03682394],\n",
       "       [-0.03684387],\n",
       "       [-0.03681498],\n",
       "       [-0.0368229 ],\n",
       "       [-0.03682783],\n",
       "       [-0.03682776],\n",
       "       [-0.03682879],\n",
       "       [-0.03683946],\n",
       "       [-0.03683214],\n",
       "       [-0.03684052],\n",
       "       [-0.03683168],\n",
       "       [-0.03686301],\n",
       "       [-0.03683707],\n",
       "       [-0.03684556],\n",
       "       [-0.0368321 ],\n",
       "       [-0.03682493],\n",
       "       [-0.0368342 ],\n",
       "       [-0.03684127],\n",
       "       [-0.03684218],\n",
       "       [-0.03684308],\n",
       "       [-0.03682182],\n",
       "       [-0.0368286 ],\n",
       "       [-0.03683022],\n",
       "       [-0.0368394 ],\n",
       "       [-0.03681322],\n",
       "       [-0.036847  ],\n",
       "       [-0.03681877],\n",
       "       [-0.03682705],\n",
       "       [-0.03682027],\n",
       "       [-0.03682777],\n",
       "       [-0.03682655],\n",
       "       [-0.03683423],\n",
       "       [-0.03683132],\n",
       "       [-0.03683783],\n",
       "       [-0.03682406],\n",
       "       [-0.03683002],\n",
       "       [-0.03682318],\n",
       "       [-0.03684435],\n",
       "       [-0.03683145],\n",
       "       [-0.03682734],\n",
       "       [-0.03683246],\n",
       "       [-0.03683459],\n",
       "       [-0.03683146],\n",
       "       [-0.03684047],\n",
       "       [-0.03682186],\n",
       "       [-0.03682791],\n",
       "       [-0.03683211],\n",
       "       [-0.03683264],\n",
       "       [-0.03683591],\n",
       "       [-0.03683533],\n",
       "       [-0.03683566],\n",
       "       [-0.03685253],\n",
       "       [-0.03683793],\n",
       "       [-0.03684213],\n",
       "       [-0.03682978],\n",
       "       [-0.03684371],\n",
       "       [-0.03683427],\n",
       "       [-0.03683198],\n",
       "       [-0.03683107],\n",
       "       [-0.03684151],\n",
       "       [-0.03685056],\n",
       "       [-0.03684281],\n",
       "       [-0.03682692],\n",
       "       [-0.03687166],\n",
       "       [-0.03684695],\n",
       "       [-0.03685788],\n",
       "       [-0.03684889],\n",
       "       [-0.03686139],\n",
       "       [-0.03684773],\n",
       "       [-0.03686076],\n",
       "       [-0.03685804],\n",
       "       [-0.03685173],\n",
       "       [-0.03682685],\n",
       "       [-0.03685283],\n",
       "       [-0.03685977],\n",
       "       [-0.03685575],\n",
       "       [-0.03685969],\n",
       "       [-0.03685324],\n",
       "       [-0.03684167],\n",
       "       [-0.03685224],\n",
       "       [-0.03684903],\n",
       "       [-0.03684964],\n",
       "       [-0.03685309],\n",
       "       [-0.03686552],\n",
       "       [-0.03684942],\n",
       "       [-0.03685605],\n",
       "       [-0.03685262],\n",
       "       [-0.03685287],\n",
       "       [-0.03686773],\n",
       "       [-0.03686509],\n",
       "       [-0.03686004],\n",
       "       [-0.03687388],\n",
       "       [-0.03686494],\n",
       "       [-0.03685799],\n",
       "       [-0.03684814],\n",
       "       [-0.03685576],\n",
       "       [-0.03684889],\n",
       "       [-0.03685812],\n",
       "       [-0.03686024],\n",
       "       [-0.03687486],\n",
       "       [-0.03687704],\n",
       "       [-0.03687754],\n",
       "       [-0.03688312],\n",
       "       [-0.03685255],\n",
       "       [-0.03687037],\n",
       "       [-0.03685276],\n",
       "       [-0.03684627],\n",
       "       [-0.03686747],\n",
       "       [-0.03686924],\n",
       "       [-0.03686735],\n",
       "       [-0.03686209],\n",
       "       [-0.03684955],\n",
       "       [-0.03686281],\n",
       "       [-0.03685221],\n",
       "       [-0.03679952],\n",
       "       [-0.03687436],\n",
       "       [-0.03684998],\n",
       "       [-0.03685223],\n",
       "       [-0.03685196],\n",
       "       [-0.03684109],\n",
       "       [-0.03685333],\n",
       "       [-0.03684646],\n",
       "       [-0.03684838],\n",
       "       [-0.03685125],\n",
       "       [-0.03684349],\n",
       "       [-0.03684653],\n",
       "       [-0.03687242],\n",
       "       [-0.03684314],\n",
       "       [-0.0368477 ],\n",
       "       [-0.03686526],\n",
       "       [-0.03681716],\n",
       "       [-0.0368388 ],\n",
       "       [-0.03685357],\n",
       "       [-0.03684354],\n",
       "       [-0.03686596],\n",
       "       [-0.03686006],\n",
       "       [-0.0368651 ],\n",
       "       [-0.03683889],\n",
       "       [-0.0367942 ],\n",
       "       [-0.03689097],\n",
       "       [-0.03685926],\n",
       "       [-0.0368649 ],\n",
       "       [-0.03687117],\n",
       "       [-0.03685696],\n",
       "       [-0.03687214],\n",
       "       [-0.03690314],\n",
       "       [-0.03687023],\n",
       "       [-0.03686703],\n",
       "       [-0.03685479],\n",
       "       [-0.03686307],\n",
       "       [-0.03686817],\n",
       "       [-0.03687866],\n",
       "       [-0.03689341],\n",
       "       [-0.03688952],\n",
       "       [-0.03688701],\n",
       "       [-0.03690255],\n",
       "       [-0.0369424 ],\n",
       "       [-0.03688116]], dtype=float32)"
      ]
     },
     "execution_count": 74,
     "metadata": {},
     "output_type": "execute_result"
    }
   ],
   "source": [
    "EC_testX=ec_lstm.predict(error_testX)\n",
    "EC_testX"
   ]
  },
  {
   "cell_type": "markdown",
   "metadata": {},
   "source": [
    "combining all the vectors"
   ]
  },
  {
   "cell_type": "code",
   "execution_count": 100,
   "metadata": {},
   "outputs": [
    {
     "data": {
      "text/plain": [
       "array([-0.0366268 , -0.03663317, -0.03663318, ..., -0.0369424 ,\n",
       "       -0.03688116, -0.03695089], dtype=float32)"
      ]
     },
     "execution_count": 100,
     "metadata": {},
     "output_type": "execute_result"
    }
   ],
   "source": [
    "EC_train=np.hstack([EC_trainX.reshape(EC_trainX.shape[0]),EC_testX.reshape(EC_testX.shape[0]),ec_lstm.predict(error_testY)[635]])\n",
    "EC_train"
   ]
  },
  {
   "cell_type": "code",
   "execution_count": 101,
   "metadata": {},
   "outputs": [
    {
     "data": {
      "text/plain": [
       "(3180,)"
      ]
     },
     "execution_count": 101,
     "metadata": {},
     "output_type": "execute_result"
    }
   ],
   "source": [
    "EC_train.shape"
   ]
  },
  {
   "cell_type": "code",
   "execution_count": 77,
   "metadata": {
    "colab": {},
    "colab_type": "code",
    "id": "_N7JhgecszB9"
   },
   "outputs": [
    {
     "data": {
      "text/plain": [
       "array([[[0.89604855]],\n",
       "\n",
       "       [[0.8960799 ]],\n",
       "\n",
       "       [[0.8960799 ]],\n",
       "\n",
       "       ...,\n",
       "\n",
       "       [[0.8100196 ]],\n",
       "\n",
       "       [[0.80798084]],\n",
       "\n",
       "       [[0.8083729 ]]], dtype=float32)"
      ]
     },
     "execution_count": 77,
     "metadata": {},
     "output_type": "execute_result"
    }
   ],
   "source": [
    "DA_trainX=da_lstm.predict(trainX)\n",
    "DA_trainX"
   ]
  },
  {
   "cell_type": "code",
   "execution_count": 78,
   "metadata": {
    "colab": {},
    "colab_type": "code",
    "id": "ahmnK-za36M_"
   },
   "outputs": [
    {
     "data": {
      "text/plain": [
       "(12719, 1, 1)"
      ]
     },
     "execution_count": 78,
     "metadata": {},
     "output_type": "execute_result"
    }
   ],
   "source": [
    "DA_trainX.shape"
   ]
  },
  {
   "cell_type": "code",
   "execution_count": 79,
   "metadata": {},
   "outputs": [
    {
     "data": {
      "text/plain": [
       "array([[[0.85942173, 0.85941535, 0.85941535, ..., 0.859146  ,\n",
       "         0.8591061 , 0.8591674 ]],\n",
       "\n",
       "       [[0.8594531 , 0.8594467 , 0.8594467 , ..., 0.85917735,\n",
       "         0.8591375 , 0.85919875]],\n",
       "\n",
       "       [[0.8594531 , 0.8594467 , 0.8594467 , ..., 0.85917735,\n",
       "         0.8591375 , 0.85919875]],\n",
       "\n",
       "       ...,\n",
       "\n",
       "       [[0.7733928 , 0.7733864 , 0.7733864 , ..., 0.77311707,\n",
       "         0.7730772 , 0.77313846]],\n",
       "\n",
       "       [[0.771354  , 0.77134764, 0.77134764, ..., 0.7710783 ,\n",
       "         0.7710384 , 0.7710997 ]],\n",
       "\n",
       "       [[0.7717461 , 0.7717397 , 0.7717397 , ..., 0.77147037,\n",
       "         0.7714305 , 0.77149177]]], dtype=float32)"
      ]
     },
     "execution_count": 79,
     "metadata": {},
     "output_type": "execute_result"
    }
   ],
   "source": [
    "(DA_trainX+EC_train)"
   ]
  },
  {
   "cell_type": "code",
   "execution_count": 80,
   "metadata": {},
   "outputs": [
    {
     "name": "stdout",
     "output_type": "stream",
     "text": [
      "[[-0.03683005]\n",
      " [-0.03682299]\n",
      " [-0.036832  ]\n",
      " [-0.03682549]\n",
      " [-0.03684181]\n",
      " [-0.03682431]\n",
      " [-0.03683019]\n",
      " [-0.03681007]\n",
      " [-0.03682556]\n",
      " [-0.03680328]\n",
      " [-0.03681861]\n",
      " [-0.03680775]\n",
      " [-0.03679427]\n",
      " [-0.03681419]\n",
      " [-0.03681444]\n",
      " [-0.03680985]\n",
      " [-0.03680713]\n",
      " [-0.03680795]\n",
      " [-0.03680589]\n",
      " [-0.03680573]\n",
      " [-0.03680382]\n",
      " [-0.03680773]\n",
      " [-0.03680152]\n",
      " [-0.03679462]\n",
      " [-0.03680339]\n",
      " [-0.03680439]\n",
      " [-0.03681221]\n",
      " [-0.03679867]\n",
      " [-0.03679977]\n",
      " [-0.0368049 ]\n",
      " [-0.03681731]\n",
      " [-0.03680258]\n",
      " [-0.03680501]\n",
      " [-0.03681194]\n",
      " [-0.03680861]\n",
      " [-0.0368174 ]\n",
      " [-0.03680837]\n",
      " [-0.0368094 ]\n",
      " [-0.03680269]\n",
      " [-0.03680886]\n",
      " [-0.03680689]\n",
      " [-0.0368154 ]\n",
      " [-0.03681274]\n",
      " [-0.03681244]\n",
      " [-0.03682683]\n",
      " [-0.0368144 ]\n",
      " [-0.03681554]\n",
      " [-0.03680378]\n",
      " [-0.03681311]\n",
      " [-0.03680926]\n",
      " [-0.0368203 ]\n",
      " [-0.03681348]\n",
      " [-0.03681456]\n",
      " [-0.03681123]\n",
      " [-0.03680832]\n",
      " [-0.03680677]\n",
      " [-0.03680653]\n",
      " [-0.03681121]\n",
      " [-0.03680194]\n",
      " [-0.03680368]\n",
      " [-0.03680669]\n",
      " [-0.03679776]\n",
      " [-0.03680986]\n",
      " [-0.03680379]\n",
      " [-0.03680343]\n",
      " [-0.03680344]\n",
      " [-0.0368034 ]\n",
      " [-0.03680376]\n",
      " [-0.0367805 ]\n",
      " [-0.03678817]\n",
      " [-0.03678696]\n",
      " [-0.03679613]\n",
      " [-0.03680023]\n",
      " [-0.03680253]\n",
      " [-0.03681353]\n",
      " [-0.03679979]\n",
      " [-0.03678967]\n",
      " [-0.03679673]\n",
      " [-0.03680304]\n",
      " [-0.03678593]\n",
      " [-0.03680121]\n",
      " [-0.03679521]\n",
      " [-0.03679214]\n",
      " [-0.03679458]\n",
      " [-0.03680475]\n",
      " [-0.03680261]\n",
      " [-0.03680775]\n",
      " [-0.0368017 ]\n",
      " [-0.03679124]\n",
      " [-0.03678225]\n",
      " [-0.03679428]\n",
      " [-0.03680857]\n",
      " [-0.03680956]\n",
      " [-0.03680027]\n",
      " [-0.03679855]\n",
      " [-0.03679411]\n",
      " [-0.03680084]\n",
      " [-0.03680171]\n",
      " [-0.03681347]\n",
      " [-0.03680287]\n",
      " [-0.03681361]\n",
      " [-0.0367744 ]\n",
      " [-0.03679627]\n",
      " [-0.03679655]\n",
      " [-0.03679818]\n",
      " [-0.0368031 ]\n",
      " [-0.03681714]\n",
      " [-0.03680118]\n",
      " [-0.03681523]\n",
      " [-0.0368098 ]\n",
      " [-0.03681036]\n",
      " [-0.03680737]\n",
      " [-0.03680928]\n",
      " [-0.0368035 ]\n",
      " [-0.03680514]\n",
      " [-0.03681322]\n",
      " [-0.03680728]\n",
      " [-0.03681111]\n",
      " [-0.03681007]\n",
      " [-0.03680451]\n",
      " [-0.03681362]\n",
      " [-0.03680997]\n",
      " [-0.03681082]\n",
      " [-0.03680146]\n",
      " [-0.0368179 ]\n",
      " [-0.03680683]\n",
      " [-0.03682553]\n",
      " [-0.03680811]\n",
      " [-0.03680937]\n",
      " [-0.03680884]\n",
      " [-0.03683984]\n",
      " [-0.03681712]\n",
      " [-0.03682329]\n",
      " [-0.03683146]\n",
      " [-0.03681802]\n",
      " [-0.03681134]\n",
      " [-0.03681888]\n",
      " [-0.03681879]\n",
      " [-0.03681259]\n",
      " [-0.03680799]\n",
      " [-0.03681002]\n",
      " [-0.03681662]\n",
      " [-0.03681471]\n",
      " [-0.03681462]\n",
      " [-0.03681814]\n",
      " [-0.03680987]\n",
      " [-0.03681584]\n",
      " [-0.03681846]\n",
      " [-0.03682806]\n",
      " [-0.03680761]\n",
      " [-0.03679944]\n",
      " [-0.03681064]\n",
      " [-0.03681668]\n",
      " [-0.03681104]\n",
      " [-0.03682116]\n",
      " [-0.03681374]\n",
      " [-0.03681967]\n",
      " [-0.03681063]\n",
      " [-0.03682923]\n",
      " [-0.036816  ]\n",
      " [-0.03681835]\n",
      " [-0.03681463]\n",
      " [-0.03681165]\n",
      " [-0.03682333]\n",
      " [-0.03683036]\n",
      " [-0.03681538]\n",
      " [-0.03682049]\n",
      " [-0.03681151]\n",
      " [-0.03682455]\n",
      " [-0.03681988]\n",
      " [-0.03682331]\n",
      " [-0.03681219]\n",
      " [-0.03681822]\n",
      " [-0.03681993]\n",
      " [-0.03682271]\n",
      " [-0.03682845]\n",
      " [-0.03682126]\n",
      " [-0.03681834]\n",
      " [-0.03682297]\n",
      " [-0.03681123]\n",
      " [-0.03682803]\n",
      " [-0.03681757]\n",
      " [-0.03681951]\n",
      " [-0.03681986]\n",
      " [-0.03681938]\n",
      " [-0.0368248 ]\n",
      " [-0.03681785]\n",
      " [-0.03682333]\n",
      " [-0.03682432]\n",
      " [-0.03682362]\n",
      " [-0.03682917]\n",
      " [-0.03682505]\n",
      " [-0.03682106]\n",
      " [-0.03682416]\n",
      " [-0.03682248]\n",
      " [-0.03682218]\n",
      " [-0.03682034]\n",
      " [-0.03682043]\n",
      " [-0.03682312]\n",
      " [-0.0368311 ]\n",
      " [-0.03682231]\n",
      " [-0.03681989]\n",
      " [-0.03682015]\n",
      " [-0.03681441]\n",
      " [-0.03681379]\n",
      " [-0.03679639]\n",
      " [-0.03681128]\n",
      " [-0.0368147 ]\n",
      " [-0.03679436]\n",
      " [-0.03679808]\n",
      " [-0.03680647]\n",
      " [-0.0368182 ]\n",
      " [-0.03680916]\n",
      " [-0.03680557]\n",
      " [-0.03682102]\n",
      " [-0.03681722]\n",
      " [-0.0368003 ]\n",
      " [-0.03680239]\n",
      " [-0.03680953]\n",
      " [-0.0368077 ]\n",
      " [-0.03681266]\n",
      " [-0.03681063]\n",
      " [-0.03682112]\n",
      " [-0.03681022]\n",
      " [-0.03681083]\n",
      " [-0.03680896]\n",
      " [-0.03680833]\n",
      " [-0.03680794]\n",
      " [-0.03680075]\n",
      " [-0.03681707]\n",
      " [-0.0368124 ]\n",
      " [-0.03681446]\n",
      " [-0.0368139 ]\n",
      " [-0.03681168]\n",
      " [-0.03681746]\n",
      " [-0.03680705]\n",
      " [-0.03681334]\n",
      " [-0.03681453]\n",
      " [-0.03680747]\n",
      " [-0.03681774]\n",
      " [-0.03682414]\n",
      " [-0.03681613]\n",
      " [-0.03681454]\n",
      " [-0.03681603]\n",
      " [-0.03681349]\n",
      " [-0.03680398]\n",
      " [-0.03679932]\n",
      " [-0.03679257]\n",
      " [-0.03678733]\n",
      " [-0.0368063 ]\n",
      " [-0.03679889]\n",
      " [-0.03680484]\n",
      " [-0.03679424]\n",
      " [-0.03678997]\n",
      " [-0.0367947 ]\n",
      " [-0.03677585]\n",
      " [-0.03680148]\n",
      " [-0.03679514]\n",
      " [-0.03680322]\n",
      " [-0.03679963]\n",
      " [-0.03682782]\n",
      " [-0.03679614]\n",
      " [-0.03680391]\n",
      " [-0.03680613]\n",
      " [-0.03679012]\n",
      " [-0.03680126]\n",
      " [-0.03680378]\n",
      " [-0.03680732]\n",
      " [-0.03681485]\n",
      " [-0.03680712]\n",
      " [-0.03681713]\n",
      " [-0.03680712]\n",
      " [-0.03680464]\n",
      " [-0.03681117]\n",
      " [-0.03681287]\n",
      " [-0.03680691]\n",
      " [-0.03680349]\n",
      " [-0.03680305]\n",
      " [-0.03681321]\n",
      " [-0.03678726]\n",
      " [-0.03680335]\n",
      " [-0.03680171]\n",
      " [-0.03680874]\n",
      " [-0.03679463]\n",
      " [-0.03680222]\n",
      " [-0.03679397]\n",
      " [-0.03679825]\n",
      " [-0.03680266]\n",
      " [-0.03679769]\n",
      " [-0.03679496]\n",
      " [-0.03680114]\n",
      " [-0.03679354]\n",
      " [-0.03679658]\n",
      " [-0.03679254]\n",
      " [-0.03678847]\n",
      " [-0.03680187]\n",
      " [-0.03679318]\n",
      " [-0.03679055]\n",
      " [-0.03680192]\n",
      " [-0.03679423]\n",
      " [-0.03679819]\n",
      " [-0.03678869]\n",
      " [-0.03679506]\n",
      " [-0.036796  ]\n",
      " [-0.03679838]\n",
      " [-0.03679126]\n",
      " [-0.03679637]\n",
      " [-0.03679427]\n",
      " [-0.03679291]\n",
      " [-0.03679365]\n",
      " [-0.0367874 ]\n",
      " [-0.03678456]\n",
      " [-0.03679011]\n",
      " [-0.03678713]\n",
      " [-0.03678675]\n",
      " [-0.03677306]\n",
      " [-0.03677966]\n",
      " [-0.03678289]\n",
      " [-0.03678018]\n",
      " [-0.03677764]\n",
      " [-0.03678392]\n",
      " [-0.03678011]\n",
      " [-0.03677791]\n",
      " [-0.03678277]\n",
      " [-0.03677816]\n",
      " [-0.03677998]\n",
      " [-0.03677619]\n",
      " [-0.03676909]\n",
      " [-0.03677145]\n",
      " [-0.03678181]\n",
      " [-0.03677588]\n",
      " [-0.036784  ]\n",
      " [-0.03678863]\n",
      " [-0.0367866 ]\n",
      " [-0.03677886]\n",
      " [-0.03678805]\n",
      " [-0.03678267]\n",
      " [-0.03679791]\n",
      " [-0.03679723]\n",
      " [-0.0367956 ]\n",
      " [-0.03678181]\n",
      " [-0.03679015]\n",
      " [-0.03679454]\n",
      " [-0.03679606]\n",
      " [-0.03678533]\n",
      " [-0.03678836]\n",
      " [-0.03680015]\n",
      " [-0.03679459]\n",
      " [-0.03679112]\n",
      " [-0.0367964 ]\n",
      " [-0.03680902]\n",
      " [-0.03681836]\n",
      " [-0.03681894]\n",
      " [-0.03680624]\n",
      " [-0.03680397]\n",
      " [-0.03679567]\n",
      " [-0.03680175]\n",
      " [-0.03681302]\n",
      " [-0.0367999 ]\n",
      " [-0.03680622]\n",
      " [-0.036801  ]\n",
      " [-0.03680693]\n",
      " [-0.03680301]\n",
      " [-0.036813  ]\n",
      " [-0.03680843]\n",
      " [-0.03681149]\n",
      " [-0.03679663]\n",
      " [-0.03679848]\n",
      " [-0.03680141]\n",
      " [-0.03679525]\n",
      " [-0.0367856 ]\n",
      " [-0.03679894]\n",
      " [-0.0367955 ]\n",
      " [-0.0367922 ]\n",
      " [-0.03679734]\n",
      " [-0.0368057 ]\n",
      " [-0.03679129]\n",
      " [-0.03679856]\n",
      " [-0.03680301]\n",
      " [-0.03680171]\n",
      " [-0.03679488]\n",
      " [-0.03680177]\n",
      " [-0.0367967 ]\n",
      " [-0.03680057]\n",
      " [-0.03680025]\n",
      " [-0.03680187]\n",
      " [-0.03679999]\n",
      " [-0.03680264]\n",
      " [-0.0367847 ]\n",
      " [-0.03680212]\n",
      " [-0.03679099]\n",
      " [-0.03680335]\n",
      " [-0.0367903 ]\n",
      " [-0.03678509]\n",
      " [-0.03680027]\n",
      " [-0.03681664]\n",
      " [-0.03679688]\n",
      " [-0.03679943]\n",
      " [-0.03679365]\n",
      " [-0.03679909]\n",
      " [-0.03681195]\n",
      " [-0.03681338]\n",
      " [-0.03680066]\n",
      " [-0.03680031]\n",
      " [-0.03680078]\n",
      " [-0.03681684]\n",
      " [-0.03680399]\n",
      " [-0.03680108]\n",
      " [-0.03680158]\n",
      " [-0.03681458]\n",
      " [-0.03680734]\n",
      " [-0.03679828]\n",
      " [-0.0368086 ]\n",
      " [-0.03682018]\n",
      " [-0.03681283]\n",
      " [-0.03681264]\n",
      " [-0.03681003]\n",
      " [-0.03680047]\n",
      " [-0.03680941]\n",
      " [-0.03681569]\n",
      " [-0.03678229]\n",
      " [-0.03680389]\n",
      " [-0.0368064 ]\n",
      " [-0.03680331]\n",
      " [-0.03681072]\n",
      " [-0.0368224 ]\n",
      " [-0.03680798]\n",
      " [-0.03680974]\n",
      " [-0.03680307]\n",
      " [-0.0368139 ]\n",
      " [-0.03681159]\n",
      " [-0.03682602]\n",
      " [-0.03682095]\n",
      " [-0.03682287]\n",
      " [-0.03681896]\n",
      " [-0.03684079]\n",
      " [-0.03682568]\n",
      " [-0.03683274]\n",
      " [-0.03682558]\n",
      " [-0.03682274]\n",
      " [-0.03682584]\n",
      " [-0.03682929]\n",
      " [-0.03682636]\n",
      " [-0.03682108]\n",
      " [-0.03681725]\n",
      " [-0.03682005]\n",
      " [-0.0368272 ]\n",
      " [-0.03683663]\n",
      " [-0.03683103]\n",
      " [-0.03681643]\n",
      " [-0.0368316 ]\n",
      " [-0.03683428]\n",
      " [-0.03683327]\n",
      " [-0.03683379]\n",
      " [-0.0368427 ]\n",
      " [-0.03682946]\n",
      " [-0.0368272 ]\n",
      " [-0.03683582]\n",
      " [-0.03683532]\n",
      " [-0.03684655]\n",
      " [-0.03683401]\n",
      " [-0.0368423 ]\n",
      " [-0.03683065]\n",
      " [-0.0368363 ]\n",
      " [-0.03683351]\n",
      " [-0.03683742]\n",
      " [-0.03683342]\n",
      " [-0.03684676]\n",
      " [-0.03683526]\n",
      " [-0.03681299]\n",
      " [-0.03682597]\n",
      " [-0.03683673]\n",
      " [-0.03682068]\n",
      " [-0.03682641]\n",
      " [-0.03682726]\n",
      " [-0.03682734]\n",
      " [-0.03680373]\n",
      " [-0.03682474]\n",
      " [-0.03682394]\n",
      " [-0.03684387]\n",
      " [-0.03681498]\n",
      " [-0.0368229 ]\n",
      " [-0.03682783]\n",
      " [-0.03682776]\n",
      " [-0.03682879]\n",
      " [-0.03683946]\n",
      " [-0.03683214]\n",
      " [-0.03684052]\n",
      " [-0.03683168]\n",
      " [-0.03686301]\n",
      " [-0.03683707]\n",
      " [-0.03684556]\n",
      " [-0.0368321 ]\n",
      " [-0.03682493]\n",
      " [-0.0368342 ]\n",
      " [-0.03684127]\n",
      " [-0.03684218]\n",
      " [-0.03684308]\n",
      " [-0.03682182]\n",
      " [-0.0368286 ]\n",
      " [-0.03683022]\n",
      " [-0.0368394 ]\n",
      " [-0.03681322]\n",
      " [-0.036847  ]\n",
      " [-0.03681877]\n",
      " [-0.03682705]\n",
      " [-0.03682027]\n",
      " [-0.03682777]\n",
      " [-0.03682655]\n",
      " [-0.03683423]\n",
      " [-0.03683132]\n",
      " [-0.03683783]\n",
      " [-0.03682406]\n",
      " [-0.03683002]\n",
      " [-0.03682318]\n",
      " [-0.03684435]\n",
      " [-0.03683145]\n",
      " [-0.03682734]\n",
      " [-0.03683246]\n",
      " [-0.03683459]\n",
      " [-0.03683146]\n",
      " [-0.03684047]\n",
      " [-0.03682186]\n",
      " [-0.03682791]\n",
      " [-0.03683211]\n",
      " [-0.03683264]\n",
      " [-0.03683591]\n",
      " [-0.03683533]\n",
      " [-0.03683566]\n",
      " [-0.03685253]\n",
      " [-0.03683793]\n",
      " [-0.03684213]\n",
      " [-0.03682978]\n",
      " [-0.03684371]\n",
      " [-0.03683427]\n",
      " [-0.03683198]\n",
      " [-0.03683107]\n",
      " [-0.03684151]\n",
      " [-0.03685056]\n",
      " [-0.03684281]\n",
      " [-0.03682692]\n",
      " [-0.03687166]\n",
      " [-0.03684695]\n",
      " [-0.03685788]\n",
      " [-0.03684889]\n",
      " [-0.03686139]\n",
      " [-0.03684773]\n",
      " [-0.03686076]\n",
      " [-0.03685804]\n",
      " [-0.03685173]\n",
      " [-0.03682685]\n",
      " [-0.03685283]\n",
      " [-0.03685977]\n",
      " [-0.03685575]\n",
      " [-0.03685969]\n",
      " [-0.03685324]\n",
      " [-0.03684167]\n",
      " [-0.03685224]\n",
      " [-0.03684903]\n",
      " [-0.03684964]\n",
      " [-0.03685309]\n",
      " [-0.03686552]\n",
      " [-0.03684942]\n",
      " [-0.03685605]\n",
      " [-0.03685262]\n",
      " [-0.03685287]\n",
      " [-0.03686773]\n",
      " [-0.03686509]\n",
      " [-0.03686004]\n",
      " [-0.03687388]\n",
      " [-0.03686494]\n",
      " [-0.03685799]\n",
      " [-0.03684814]\n",
      " [-0.03685576]\n",
      " [-0.03684889]\n",
      " [-0.03685812]\n",
      " [-0.03686024]\n",
      " [-0.03687486]\n",
      " [-0.03687704]\n",
      " [-0.03687754]\n",
      " [-0.03688312]\n",
      " [-0.03685255]\n",
      " [-0.03687037]\n",
      " [-0.03685276]\n",
      " [-0.03684627]\n",
      " [-0.03686747]\n",
      " [-0.03686924]\n",
      " [-0.03686735]\n",
      " [-0.03686209]\n",
      " [-0.03684955]\n",
      " [-0.03686281]\n",
      " [-0.03685221]\n",
      " [-0.03679952]\n",
      " [-0.03687436]\n",
      " [-0.03684998]\n",
      " [-0.03685223]\n",
      " [-0.03685196]\n",
      " [-0.03684109]\n",
      " [-0.03685333]\n",
      " [-0.03684646]\n",
      " [-0.03684838]\n",
      " [-0.03685125]\n",
      " [-0.03684349]\n",
      " [-0.03684653]\n",
      " [-0.03687242]\n",
      " [-0.03684314]\n",
      " [-0.0368477 ]\n",
      " [-0.03686526]\n",
      " [-0.03681716]\n",
      " [-0.0368388 ]\n",
      " [-0.03685357]\n",
      " [-0.03684354]\n",
      " [-0.03686596]\n",
      " [-0.03686006]\n",
      " [-0.0368651 ]\n",
      " [-0.03683889]\n",
      " [-0.0367942 ]\n",
      " [-0.03689097]\n",
      " [-0.03685926]\n",
      " [-0.0368649 ]\n",
      " [-0.03687117]\n",
      " [-0.03685696]\n",
      " [-0.03687214]\n",
      " [-0.03690314]\n",
      " [-0.03687023]\n",
      " [-0.03686703]\n",
      " [-0.03685479]\n",
      " [-0.03686307]\n",
      " [-0.03686817]\n",
      " [-0.03687866]\n",
      " [-0.03689341]\n",
      " [-0.03688952]\n",
      " [-0.03688701]\n",
      " [-0.03690255]\n",
      " [-0.0369424 ]\n",
      " [-0.03688116]]\n"
     ]
    },
    {
     "data": {
      "text/plain": [
       "(636, 1)"
      ]
     },
     "execution_count": 80,
     "metadata": {},
     "output_type": "execute_result"
    }
   ],
   "source": [
    "EC_testX=ec_lstm.predict(error_testX)\n",
    "print(EC_testX)\n",
    "EC_testX.shape"
   ]
  },
  {
   "cell_type": "code",
   "execution_count": 81,
   "metadata": {},
   "outputs": [
    {
     "name": "stdout",
     "output_type": "stream",
     "text": [
      "[[[0.809259  ]]\n",
      "\n",
      " [[0.8089845 ]]\n",
      "\n",
      " [[0.8081768 ]]\n",
      "\n",
      " ...\n",
      "\n",
      " [[0.6969218 ]]\n",
      "\n",
      " [[0.69153476]]\n",
      "\n",
      " [[0.69300896]]]\n"
     ]
    },
    {
     "data": {
      "text/plain": [
       "(3180, 1, 1)"
      ]
     },
     "execution_count": 81,
     "metadata": {},
     "output_type": "execute_result"
    }
   ],
   "source": [
    "DA_testX=da_lstm.predict(testX)\n",
    "DA_testX\n",
    "print(DA_testX)\n",
    "DA_testX.shape"
   ]
  },
  {
   "cell_type": "code",
   "execution_count": 102,
   "metadata": {},
   "outputs": [
    {
     "data": {
      "text/plain": [
       "(3180,)"
      ]
     },
     "execution_count": 102,
     "metadata": {},
     "output_type": "execute_result"
    }
   ],
   "source": [
    "EC_train.shape"
   ]
  },
  {
   "cell_type": "markdown",
   "metadata": {},
   "source": [
    "Preducted test from model"
   ]
  },
  {
   "cell_type": "code",
   "execution_count": 106,
   "metadata": {},
   "outputs": [
    {
     "data": {
      "text/plain": [
       "array([0.7726322, 0.7723513, 0.7715436, ..., 0.6599794, 0.6546536,\n",
       "       0.6560581], dtype=float32)"
      ]
     },
     "execution_count": 106,
     "metadata": {},
     "output_type": "execute_result"
    }
   ],
   "source": [
    "predicted_test=EC_train+DA_testX.reshape(3180)\n",
    "predicted_test"
   ]
  },
  {
   "cell_type": "markdown",
   "metadata": {},
   "source": [
    "# plot"
   ]
  },
  {
   "cell_type": "code",
   "execution_count": 114,
   "metadata": {},
   "outputs": [
    {
     "data": {
      "image/png": "[encoded data removed]",
      "text/plain": [
       "<Figure size 1152x576 with 1 Axes>"
      ]
     },
     "metadata": {
      "needs_background": "light"
     },
     "output_type": "display_data"
    }
   ],
   "source": [
    "plt.figure(figsize=(16,8))\n",
    "plt.title('DA_EC_LSTM Model')\n",
    "plt.ylabel('Trend')\n",
    "plt.xlabel('Period')\n",
    "plt.plot(predicted_test)\n",
    "plt.plot(testX.reshape(3180))\n",
    "plt.legend(['preedicted','actual'])\n",
    "plt.grid()\n",
    "plt.show()"
   ]
  },
  {
   "cell_type": "markdown",
   "metadata": {},
   "source": [
    "# Metric measure"
   ]
  },
  {
   "cell_type": "code",
   "execution_count": 115,
   "metadata": {},
   "outputs": [
    {
     "name": "stdout",
     "output_type": "stream",
     "text": [
      "MSE: 4.674239625314063e-05\n",
      "MAE: 0.005683573761238242\n",
      "RMSE: 0.038816489087508975\n",
      "SMAPE: 13796.771436573685\n",
      "MAPE: 4.351726352313755\n"
     ]
    }
   ],
   "source": [
    "from sklearn.metrics import mean_squared_error\n",
    "from sklearn.metrics import mean_absolute_error\n",
    "\n",
    "def mape(y_true, y_pred):\n",
    "    return np.mean(np.abs((y_pred - y_true) / y_true)) * 100\n",
    "\n",
    "\n",
    "RMSE=np.sqrt(np.mean(((predicted_test- testY)**2)))\n",
    "\n",
    "SMAPE=(np.sum(2*np.abs(predicted_test- testY)/((np.abs(predicted_test)+ np.abs(testY))))*100)/len(testY)\n",
    "\n",
    "\n",
    "print('MSE:',mean_squared_error(predicted_test,testY))\n",
    "print('MAE:',mean_absolute_error(predicted_test,testY))\n",
    "print('RMSE:',RMSE)\n",
    "print('SMAPE:',SMAPE)\n",
    "print('MAPE:',mape(testY,predicted_test ))\n"
   ]
  },
  {
   "cell_type": "markdown",
   "metadata": {},
   "source": [
    "# Conclusion\n",
    "\n",
    "1.It works very well in middel period. As we can see in above graph.\n",
    "\n",
    "2.But it is effective model once we get suitable weights.\n"
   ]
  },
  {
   "cell_type": "code",
   "execution_count": null,
   "metadata": {},
   "outputs": [],
   "source": []
  }
 ],
 "metadata": {
  "colab": {
   "collapsed_sections": [],
   "name": "Copy of (China)_2020_LSTM_Including_Error_Correction_to_Improve_Accuracy.ipynb",
   "provenance": []
  },
  "kernelspec": {
   "display_name": "Python 3",
   "language": "python",
   "name": "python3"
  },
  "language_info": {
   "codemirror_mode": {
    "name": "ipython",
    "version": 3
   },
   "file_extension": ".py",
   "mimetype": "text/x-python",
   "name": "python",
   "nbconvert_exporter": "python",
   "pygments_lexer": "ipython3",
   "version": "3.7.4"
  }
 },
 "nbformat": 4,
 "nbformat_minor": 1
}
